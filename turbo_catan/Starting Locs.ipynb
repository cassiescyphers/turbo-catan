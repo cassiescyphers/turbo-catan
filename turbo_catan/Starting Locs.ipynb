{
 "cells": [
  {
   "cell_type": "code",
   "execution_count": 3,
   "id": "0d228b73-1cd7-468e-b025-14398706d845",
   "metadata": {},
   "outputs": [],
   "source": [
    "# probabilities\n",
    "\n"
   ]
  },
  {
   "cell_type": "code",
   "execution_count": 1,
   "id": "df4f2dcd-3222-4c4e-8241-8a9770f8aca9",
   "metadata": {},
   "outputs": [
    {
     "data": {
      "text/plain": [
       "30"
      ]
     },
     "execution_count": 1,
     "metadata": {},
     "output_type": "execute_result"
    }
   ],
   "source": [
    "1+2+3+4+5+5+4+3+2+1"
   ]
  },
  {
   "cell_type": "code",
   "execution_count": null,
   "id": "0cfe8dda-bd0d-445f-a92e-14cb37233712",
   "metadata": {},
   "outputs": [],
   "source": []
  },
  {
   "cell_type": "code",
   "execution_count": 4,
   "id": "945d5c7f-57a6-488b-b886-24053e2e545f",
   "metadata": {},
   "outputs": [],
   "source": [
    "def match1(t1,t2):\n",
    "    if t1 != t2:\n",
    "        if abs(t1[0]-t2[0]) == 1 and (t1[1] == t2[1] or t1[2] == t2[2]):\n",
    "            return True\n",
    "        elif abs(t1[1]-t2[1]) == 1 and (t1[2] == t2[2] or t1[0] == t2[0]):\n",
    "            return True\n",
    "        elif abs(t1[2]-t2[2]) == 1 and (t1[1] == t2[1] or t1[0] == t2[0]):\n",
    "            return True\n",
    "        else:\n",
    "            return False\n",
    "    else:\n",
    "        return False\n",
    "def match2(t1,t2,t3):\n",
    "    if t1 != t3 and t2 != t3:\n",
    "        if t1[0]==t3[0] and (t3[1]==t2[1] or t3[2] == t2[2]):\n",
    "            return True\n",
    "        elif t1[1]==t3[1] and (t3[0]==t2[0] or t3[2]==t2[2]):\n",
    "            return True\n",
    "        elif t1[2]==t3[2] and (t3[0]==t2[0] or t3[1]==t2[1]):\n",
    "            return True\n",
    "        else:\n",
    "            return False\n",
    "    else:\n",
    "        return False\n",
    "    \n",
    "def pick_random_intersection(tile_coords):\n",
    "    while(True):\n",
    "        tile_1 = tile_coords[np.random.randint(0,len(tile_coords))]\n",
    "        tile_2 = None\n",
    "        tile_3 = None\n",
    "        for tile_2 in filter(lambda x: match1(tile_1,x),tile_coords):\n",
    "            \n",
    "            for tile_3 in filter(lambda x: match2(tile_1,tile_2,x),tile_coords):\n",
    "                break\n",
    "            if tile_3:\n",
    "                break\n",
    "        if tile_2:\n",
    "            break\n",
    "    return tile_1,tile_2,tile_3\n",
    "\n",
    "def gen_start_rolls(roll_prob_lookup,prob_sum):\n",
    "    MAX_ROLLS = 1000\n",
    "    roll_options = list(roll_prob_lookup.keys())\n",
    "    i = 0\n",
    "    while(True):\n",
    "        rolls = np.random.choice(roll_options,size=3)\n",
    "        i += 1\n",
    "        if np.sum([roll_prob_lookup[x] for x in rolls]) == prob_sum:\n",
    "            break\n",
    "        if i == MAX_ROLLS:\n",
    "            raise Exception(\"could not compute start location. exceeded MAX_ROLLS\")\n",
    "    return rolls\n",
    "\n",
    "def gen_start_loc(roll_prob_lookup,tile_coords,resource_tiles,prob_sum=12):\n",
    "    # rules:\n",
    "    #  probabilities must add up to prob_sum\n",
    "    #  a maximum of 2 tiles can be identical\n",
    "    \n",
    "    rolls = gen_start_rolls(roll_prob_lookup,prob_sum)\n",
    "    coords = pick_random_intersection(tile_coords)\n",
    "    \n",
    "    types = np.random.choice(resource_tiles,3)\n",
    "    tiles = []\n",
    "    for i in range(len(coords)):\n",
    "        r,q,s = coords[i]\n",
    "        tiles.append(Tile(types[i],num=rolls[i],r=r,q=q,s=s))\n",
    "    return tiles"
   ]
  },
  {
   "cell_type": "code",
   "execution_count": 5,
   "id": "8caf0f2e-410f-4ded-9d12-93b9ef5ce53f",
   "metadata": {},
   "outputs": [
    {
     "ename": "NameError",
     "evalue": "name 'prob_lookup' is not defined",
     "output_type": "error",
     "traceback": [
      "\u001b[1;31m---------------------------------------------------------------------------\u001b[0m",
      "\u001b[1;31mNameError\u001b[0m                                 Traceback (most recent call last)",
      "\u001b[1;32m<ipython-input-5-be35777eb522>\u001b[0m in \u001b[0;36m<module>\u001b[1;34m\u001b[0m\n\u001b[0;32m     21\u001b[0m \u001b[0mtiles\u001b[0m \u001b[1;33m=\u001b[0m \u001b[1;33m[\u001b[0m\u001b[1;33m]\u001b[0m\u001b[1;33m\u001b[0m\u001b[1;33m\u001b[0m\u001b[0m\n\u001b[0;32m     22\u001b[0m \u001b[1;32mfor\u001b[0m \u001b[0mres\u001b[0m \u001b[1;32min\u001b[0m \u001b[0mresource_tiles\u001b[0m\u001b[1;33m:\u001b[0m\u001b[1;33m\u001b[0m\u001b[1;33m\u001b[0m\u001b[0m\n\u001b[1;32m---> 23\u001b[1;33m     \u001b[0mrolls\u001b[0m \u001b[1;33m=\u001b[0m \u001b[0mgen_rolls\u001b[0m\u001b[1;33m(\u001b[0m\u001b[0mn_each_resource\u001b[0m\u001b[1;33m,\u001b[0m\u001b[0mtarget_prob\u001b[0m\u001b[1;33m,\u001b[0m\u001b[0mroll_select_prob\u001b[0m\u001b[1;33m)\u001b[0m\u001b[1;33m\u001b[0m\u001b[1;33m\u001b[0m\u001b[0m\n\u001b[0m\u001b[0;32m     24\u001b[0m     \u001b[1;32mfor\u001b[0m \u001b[0mi\u001b[0m \u001b[1;32min\u001b[0m \u001b[0mrange\u001b[0m\u001b[1;33m(\u001b[0m\u001b[0mn_each_resource\u001b[0m\u001b[1;33m)\u001b[0m\u001b[1;33m:\u001b[0m\u001b[1;33m\u001b[0m\u001b[1;33m\u001b[0m\u001b[0m\n\u001b[0;32m     25\u001b[0m         \u001b[0mtiles\u001b[0m\u001b[1;33m.\u001b[0m\u001b[0mappend\u001b[0m\u001b[1;33m(\u001b[0m\u001b[0mTile\u001b[0m\u001b[1;33m(\u001b[0m\u001b[0mres\u001b[0m\u001b[1;33m,\u001b[0m\u001b[0mrolls\u001b[0m\u001b[1;33m[\u001b[0m\u001b[0mi\u001b[0m\u001b[1;33m]\u001b[0m\u001b[1;33m)\u001b[0m\u001b[1;33m)\u001b[0m\u001b[1;33m\u001b[0m\u001b[1;33m\u001b[0m\u001b[0m\n",
      "\u001b[1;32m<ipython-input-2-737f4817c793>\u001b[0m in \u001b[0;36mgen_rolls\u001b[1;34m(n, target_prob, roll_select_prob, lower_bound_pct, upper_bound_pct)\u001b[0m\n\u001b[0;32m     23\u001b[0m     \u001b[1;32mwhile\u001b[0m\u001b[1;33m(\u001b[0m\u001b[1;32mTrue\u001b[0m\u001b[1;33m)\u001b[0m\u001b[1;33m:\u001b[0m\u001b[1;33m\u001b[0m\u001b[1;33m\u001b[0m\u001b[0m\n\u001b[0;32m     24\u001b[0m         \u001b[0mrolls\u001b[0m \u001b[1;33m=\u001b[0m \u001b[0mnp\u001b[0m\u001b[1;33m.\u001b[0m\u001b[0mrandom\u001b[0m\u001b[1;33m.\u001b[0m\u001b[0mchoice\u001b[0m\u001b[1;33m(\u001b[0m\u001b[0mroll_options\u001b[0m\u001b[1;33m,\u001b[0m\u001b[0mn\u001b[0m\u001b[1;33m,\u001b[0m\u001b[0mp\u001b[0m\u001b[1;33m=\u001b[0m\u001b[0mroll_options_probs\u001b[0m\u001b[1;33m)\u001b[0m\u001b[1;33m\u001b[0m\u001b[1;33m\u001b[0m\u001b[0m\n\u001b[1;32m---> 25\u001b[1;33m         \u001b[0mmean_prob\u001b[0m \u001b[1;33m=\u001b[0m \u001b[0mnp\u001b[0m\u001b[1;33m.\u001b[0m\u001b[0mmean\u001b[0m\u001b[1;33m(\u001b[0m\u001b[1;33m[\u001b[0m\u001b[0mprob_lookup\u001b[0m\u001b[1;33m[\u001b[0m\u001b[0mx\u001b[0m\u001b[1;33m]\u001b[0m \u001b[1;32mfor\u001b[0m \u001b[0mx\u001b[0m \u001b[1;32min\u001b[0m \u001b[0mrolls\u001b[0m\u001b[1;33m]\u001b[0m\u001b[1;33m)\u001b[0m\u001b[1;33m\u001b[0m\u001b[1;33m\u001b[0m\u001b[0m\n\u001b[0m\u001b[0;32m     26\u001b[0m         \u001b[1;32mif\u001b[0m \u001b[0mmean_prob\u001b[0m \u001b[1;33m<\u001b[0m \u001b[0mtarget_prob\u001b[0m \u001b[1;33m*\u001b[0m \u001b[0mupper_bound_pct\u001b[0m \u001b[1;32mand\u001b[0m \u001b[0mmean_prob\u001b[0m \u001b[1;33m>\u001b[0m \u001b[0mtarget_prob\u001b[0m \u001b[1;33m*\u001b[0m \u001b[0mlower_bound_pct\u001b[0m\u001b[1;33m:\u001b[0m\u001b[1;33m\u001b[0m\u001b[1;33m\u001b[0m\u001b[0m\n\u001b[0;32m     27\u001b[0m             \u001b[1;32mbreak\u001b[0m\u001b[1;33m\u001b[0m\u001b[1;33m\u001b[0m\u001b[0m\n",
      "\u001b[1;32m<ipython-input-2-737f4817c793>\u001b[0m in \u001b[0;36m<listcomp>\u001b[1;34m(.0)\u001b[0m\n\u001b[0;32m     23\u001b[0m     \u001b[1;32mwhile\u001b[0m\u001b[1;33m(\u001b[0m\u001b[1;32mTrue\u001b[0m\u001b[1;33m)\u001b[0m\u001b[1;33m:\u001b[0m\u001b[1;33m\u001b[0m\u001b[1;33m\u001b[0m\u001b[0m\n\u001b[0;32m     24\u001b[0m         \u001b[0mrolls\u001b[0m \u001b[1;33m=\u001b[0m \u001b[0mnp\u001b[0m\u001b[1;33m.\u001b[0m\u001b[0mrandom\u001b[0m\u001b[1;33m.\u001b[0m\u001b[0mchoice\u001b[0m\u001b[1;33m(\u001b[0m\u001b[0mroll_options\u001b[0m\u001b[1;33m,\u001b[0m\u001b[0mn\u001b[0m\u001b[1;33m,\u001b[0m\u001b[0mp\u001b[0m\u001b[1;33m=\u001b[0m\u001b[0mroll_options_probs\u001b[0m\u001b[1;33m)\u001b[0m\u001b[1;33m\u001b[0m\u001b[1;33m\u001b[0m\u001b[0m\n\u001b[1;32m---> 25\u001b[1;33m         \u001b[0mmean_prob\u001b[0m \u001b[1;33m=\u001b[0m \u001b[0mnp\u001b[0m\u001b[1;33m.\u001b[0m\u001b[0mmean\u001b[0m\u001b[1;33m(\u001b[0m\u001b[1;33m[\u001b[0m\u001b[0mprob_lookup\u001b[0m\u001b[1;33m[\u001b[0m\u001b[0mx\u001b[0m\u001b[1;33m]\u001b[0m \u001b[1;32mfor\u001b[0m \u001b[0mx\u001b[0m \u001b[1;32min\u001b[0m \u001b[0mrolls\u001b[0m\u001b[1;33m]\u001b[0m\u001b[1;33m)\u001b[0m\u001b[1;33m\u001b[0m\u001b[1;33m\u001b[0m\u001b[0m\n\u001b[0m\u001b[0;32m     26\u001b[0m         \u001b[1;32mif\u001b[0m \u001b[0mmean_prob\u001b[0m \u001b[1;33m<\u001b[0m \u001b[0mtarget_prob\u001b[0m \u001b[1;33m*\u001b[0m \u001b[0mupper_bound_pct\u001b[0m \u001b[1;32mand\u001b[0m \u001b[0mmean_prob\u001b[0m \u001b[1;33m>\u001b[0m \u001b[0mtarget_prob\u001b[0m \u001b[1;33m*\u001b[0m \u001b[0mlower_bound_pct\u001b[0m\u001b[1;33m:\u001b[0m\u001b[1;33m\u001b[0m\u001b[1;33m\u001b[0m\u001b[0m\n\u001b[0;32m     27\u001b[0m             \u001b[1;32mbreak\u001b[0m\u001b[1;33m\u001b[0m\u001b[1;33m\u001b[0m\u001b[0m\n",
      "\u001b[1;31mNameError\u001b[0m: name 'prob_lookup' is not defined"
     ]
    }
   ],
   "source": [
    "# 3-4 players, 19 tiles\n",
    "# 5-6 players, 30 tiles\n",
    "# source: https://jkirschner.github.io/catan-randomizer/\n",
    "# shoot for 5.5 tiles per person\n",
    "\n",
    "n_players = 6\n",
    "\n",
    "# idealistic distribution\n",
    "n_each_resource =  int(np.ceil(n_players*5.5) // len(resource_tiles))\n",
    "n_resource_tiles = n_each_resource * len(resource_tiles)\n",
    "n_non_resource = n_players*7 - n_resource_tiles\n",
    "\n",
    "target_prob = 3.0\n",
    "\n",
    "\n",
    "\n",
    "# generate tiles\n",
    "tiles = []\n",
    "for res in resource_tiles:\n",
    "    rolls = gen_rolls(n_each_resource,target_prob,roll_select_prob)\n",
    "    for i in range(n_each_resource):\n",
    "        tiles.append(Tile(res,rolls[i]))\n",
    "for i in range(n_non_resource):\n",
    "    res = np.random.choice(non_resource,p=[.6,.4])\n",
    "    tiles.append(Tile(res))\n",
    "\n",
    "\n",
    "random.shuffle(tiles)\n",
    "\n",
    "coords = gen_coords(5)[:n_tiles]\n",
    "\n",
    "n_tiles = len(tiles)\n",
    "\n",
    "start_tiles = gen_start_loc(roll_prob_lookup,coords,resource_tiles)\n",
    "\n",
    "plot_hex(start_tiles)"
   ]
  },
  {
   "cell_type": "code",
   "execution_count": null,
   "id": "6bb916d8-fe7f-421e-8126-739cfcf1862a",
   "metadata": {},
   "outputs": [],
   "source": []
  },
  {
   "cell_type": "code",
   "execution_count": null,
   "id": "cd7439e6-e352-459b-8991-86c83aed5864",
   "metadata": {},
   "outputs": [],
   "source": []
  }
 ],
 "metadata": {
  "kernelspec": {
   "display_name": "Python 3",
   "language": "python",
   "name": "python3"
  },
  "language_info": {
   "codemirror_mode": {
    "name": "ipython",
    "version": 3
   },
   "file_extension": ".py",
   "mimetype": "text/x-python",
   "name": "python",
   "nbconvert_exporter": "python",
   "pygments_lexer": "ipython3",
   "version": "3.8.10"
  }
 },
 "nbformat": 4,
 "nbformat_minor": 5
}
